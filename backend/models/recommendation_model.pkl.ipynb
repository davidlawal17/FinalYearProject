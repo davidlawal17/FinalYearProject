{
 "cells": [
  {
   "metadata": {
    "ExecuteTime": {
     "end_time": "2025-04-11T22:00:46.346609Z",
     "start_time": "2025-04-11T22:00:45.746321Z"
    }
   },
   "cell_type": "code",
   "source": [
    "import pandas as pd\n",
    "import numpy as np\n",
    "import os\n",
    "import joblib\n",
    "from sklearn.model_selection import train_test_split\n",
    "from sklearn.ensemble import GradientBoostingClassifier\n",
    "from sklearn.calibration import CalibratedClassifierCV\n",
    "from sklearn.metrics import classification_report, accuracy_score\n",
    "\n",
    "\n",
    "#  STEP 1: Load and Clean the Data\n",
    "\n",
    "\n",
    "df = pd.read_csv(\"realestate_data_london_2024_nov.csv\")\n",
    "\n",
    "# Remove entries with POA (price on application)\n",
    "df = df[~df['price'].astype(str).str.contains(\"POA\", na=False)]\n",
    "df['price'] = df['price'].replace('[£,]', '', regex=True).astype(float)\n",
    "\n",
    "# Drop if essential values are missing\n",
    "df.dropna(subset=['price', 'bedrooms', 'bathrooms', 'title'], inplace=True)\n",
    "df['sizeSqFeetMax'] = df['sizeSqFeetMax'].fillna(df['sizeSqFeetMax'].median())\n",
    "\n",
    "\n",
    "#  STEP 2: Extract Region from Title (via Postcode)\n",
    "\n",
    "# Extract postcode (last valid UK code pattern at end of title)\n",
    "df['postcode'] = df['title'].str.extract(r'([A-Z]{1,2}\\d{1,2}[A-Z]?)\\s*,?\\s*$')\n",
    "df['postcode_prefix'] = df['postcode'].str.extract(r'^([A-Z]{1,2})')\n",
    "\n",
    "# Map postcode prefix to broader London regions\n",
    "postcode_to_region = {\n",
    "    'N': 'North', 'NW': 'North',\n",
    "    'E': 'East',\n",
    "    'S': 'South', 'SE': 'South', 'SW': 'South',\n",
    "    'W': 'West',\n",
    "    'WC': 'Central', 'EC': 'Central'\n",
    "}\n",
    "\n",
    "df['region'] = df['postcode_prefix'].map(postcode_to_region).fillna('Other')\n",
    "\n",
    "# One-hot encode region\n",
    "df = pd.get_dummies(df, columns=['region'], prefix='region', prefix_sep='_', drop_first=False)\n",
    "\n",
    "\n",
    "#  STEP 3: Feature Engineering\n",
    "\n",
    "\n",
    "df['price_per_bedroom'] = df['price'] / df['bedrooms']\n",
    "df['price_per_sqft'] = df['price'] / df['sizeSqFeetMax']\n",
    "df['estimated_rent'] = df['price'] * np.random.uniform(0.0035, 0.0065, size=len(df))\n",
    "df['rental_yield'] = (df['estimated_rent'] * 12) / df['price'] * 100\n",
    "df['expected_growth_rate'] = np.random.uniform(0.02, 0.06, size=len(df))\n",
    "df['roi'] = df['rental_yield'] + (df['expected_growth_rate'] * 100)\n",
    "df['price_in_5_years'] = df['price'] * ((1 + df['expected_growth_rate']) ** 5)\n",
    "\n",
    "\n",
    "# STEP 4: Create Target Labels\n",
    "\n",
    "HIGH_ROI_THRESHOLD = 9.5\n",
    "HIGH_GROWTH_THRESHOLD = 0.045\n",
    "\n",
    "df['label'] = ((df['roi'] > HIGH_ROI_THRESHOLD) | (df['expected_growth_rate'] > HIGH_GROWTH_THRESHOLD)).astype(int)\n",
    "\n",
    "\n",
    "#  STEP 5: Property Type Encoding\n",
    "\n",
    "\n",
    "common_types = ['Flat', 'House', 'Detached', 'Semi_Detached', 'Terraced']\n",
    "df['property_type'] = df['propertyType'].apply(lambda x: x.replace(\"-\", \"_\") if x.replace(\"-\", \"_\") in common_types else 'Other')\n",
    "df = df.drop(columns=[col for col in df.columns if col.startswith('propertyType_')], errors='ignore')\n",
    "df = pd.get_dummies(df, columns=['property_type'], prefix='propertyType', prefix_sep='_', drop_first=False)\n",
    "\n",
    "\n",
    "# STEP 6: Final Feature Set Selection\n",
    "\n",
    "\n",
    "base_features = [\n",
    "    'price', 'bedrooms', 'bathrooms', 'sizeSqFeetMax',\n",
    "    'price_per_bedroom', 'price_per_sqft',\n",
    "    'estimated_rent', 'expected_growth_rate'\n",
    "]\n",
    "\n",
    "property_type_features = [col for col in df.columns if col.startswith(\"propertyType_\")]\n",
    "region_features = [col for col in df.columns if col.startswith(\"region_\")]\n",
    "\n",
    "features = base_features + property_type_features + region_features\n",
    "\n",
    "X = df[features]\n",
    "y = df['label']\n",
    "\n",
    "\n",
    "#  STEP 7: Train/Test Split\n",
    "\n",
    "\n",
    "X_train, X_test, y_train, y_test = train_test_split(\n",
    "    X, y, test_size=0.2, random_state=42, stratify=y\n",
    ")\n",
    "\n",
    "\n",
    "#  STEP 8: Define and Train Model\n",
    "\n",
    "\n",
    "base_model = GradientBoostingClassifier(\n",
    "    n_estimators=100,\n",
    "    max_depth=3,\n",
    "    learning_rate=0.05,\n",
    "    subsample=0.8,\n",
    "    random_state=42\n",
    ")\n",
    "\n",
    "model = CalibratedClassifierCV(base_model, method='sigmoid', cv=5)\n",
    "model.fit(X_train, y_train)\n",
    "\n",
    "\n",
    "#  STEP 9: Evaluate\n",
    "\n",
    "y_pred = model.predict(X_test)\n",
    "print(\" Accuracy:\", accuracy_score(y_test, y_pred))\n",
    "print(\" Report:\\n\", classification_report(y_test, y_pred))\n",
    "\n",
    "\n",
    "#  STEP 10: Save Model\n",
    "\n",
    "joblib.dump(model, \"/Users/davidlawal/Desktop/Investr-/backend/models/recommendation_model.pkl\")\n",
    "\n"
   ],
   "id": "88032833aed20607",
   "outputs": [
    {
     "name": "stdout",
     "output_type": "stream",
     "text": [
      " Accuracy: 0.934010152284264\n",
      " Report:\n",
      "               precision    recall  f1-score   support\n",
      "\n",
      "           0       0.90      0.92      0.91        71\n",
      "           1       0.95      0.94      0.95       126\n",
      "\n",
      "    accuracy                           0.93       197\n",
      "   macro avg       0.93      0.93      0.93       197\n",
      "weighted avg       0.93      0.93      0.93       197\n",
      "\n"
     ]
    },
    {
     "data": {
      "text/plain": [
       "['/Users/davidlawal/Desktop/Investr-/backend/models/recommendation_model.pkl']"
      ]
     },
     "execution_count": 12,
     "metadata": {},
     "output_type": "execute_result"
    }
   ],
   "execution_count": 12
  },
  {
   "metadata": {
    "ExecuteTime": {
     "end_time": "2025-04-11T22:01:00.985417Z",
     "start_time": "2025-04-11T22:01:00.929643Z"
    }
   },
   "cell_type": "code",
   "source": [
    "probs = model.predict_proba(X_test)[:, 1]  # Probability of class 1 (\"Buy\")\n",
    "import matplotlib.pyplot as plt\n",
    "\n",
    "plt.hist(probs, bins=10, color='skyblue', edgecolor='black')\n",
    "plt.title(\"Distribution of 'Buy' Confidence Scores\")\n",
    "plt.xlabel(\"Confidence\")\n",
    "plt.ylabel(\"Count\")\n",
    "plt.show()\n"
   ],
   "id": "79b3bebb92327266",
   "outputs": [
    {
     "data": {
      "text/plain": [
       "<Figure size 640x480 with 1 Axes>"
      ],
      "image/png": "[encoded data removed]"
     },
     "metadata": {},
     "output_type": "display_data"
    }
   ],
   "execution_count": 13
  },
  {
   "metadata": {
    "ExecuteTime": {
     "end_time": "2025-04-11T22:01:04.135585Z",
     "start_time": "2025-04-11T22:01:03.529205Z"
    }
   },
   "cell_type": "code",
   "source": [
    "from sklearn.model_selection import cross_val_score\n",
    "cv_scores = cross_val_score(base_model, X, y, cv=5)\n",
    "print(\"Cross-validated accuracy (raw base model):\", np.mean(cv_scores))\n"
   ],
   "id": "77ba381d72a14b78",
   "outputs": [
    {
     "name": "stdout",
     "output_type": "stream",
     "text": [
      "Cross-validated accuracy (raw base model): 0.8515435615870715\n"
     ]
    }
   ],
   "execution_count": 14
  },
  {
   "metadata": {
    "ExecuteTime": {
     "end_time": "2025-04-11T22:01:10.239541Z",
     "start_time": "2025-04-11T22:01:10.236040Z"
    }
   },
   "cell_type": "code",
   "source": "print(model.feature_names_in_)",
   "id": "a2ca37f3d807095b",
   "outputs": [
    {
     "name": "stdout",
     "output_type": "stream",
     "text": [
      "['price' 'bedrooms' 'bathrooms' 'sizeSqFeetMax' 'price_per_bedroom'\n",
      " 'price_per_sqft' 'estimated_rent' 'expected_growth_rate'\n",
      " 'propertyType_Detached' 'propertyType_Flat' 'propertyType_House'\n",
      " 'propertyType_Other' 'propertyType_Semi_Detached' 'propertyType_Terraced'\n",
      " 'region_Central' 'region_East' 'region_North' 'region_Other'\n",
      " 'region_South' 'region_West']\n"
     ]
    }
   ],
   "execution_count": 15
  },
  {
   "metadata": {
    "ExecuteTime": {
     "end_time": "2025-04-11T22:01:11.727155Z",
     "start_time": "2025-04-11T22:01:11.716088Z"
    }
   },
   "cell_type": "code",
   "source": [
    "print(classification_report(y_test, y_pred, target_names=[\"Avoid\", \"Buy\"]))\n",
    "print(\"Target distribution:\", y.value_counts(normalize=True))\n",
    "print(\"Predicted distribution:\", pd.Series(y_pred).value_counts(normalize=True))\n"
   ],
   "id": "edfa98644692dd3",
   "outputs": [
    {
     "name": "stdout",
     "output_type": "stream",
     "text": [
      "              precision    recall  f1-score   support\n",
      "\n",
      "       Avoid       0.90      0.92      0.91        71\n",
      "         Buy       0.95      0.94      0.95       126\n",
      "\n",
      "    accuracy                           0.93       197\n",
      "   macro avg       0.93      0.93      0.93       197\n",
      "weighted avg       0.93      0.93      0.93       197\n",
      "\n",
      "Target distribution: label\n",
      "1    0.639878\n",
      "0    0.360122\n",
      "Name: proportion, dtype: float64\n",
      "Predicted distribution: 1    0.634518\n",
      "0    0.365482\n",
      "Name: proportion, dtype: float64\n"
     ]
    }
   ],
   "execution_count": 16
  }
 ],
 "metadata": {
  "kernelspec": {
   "display_name": "Python 3 (ipykernel)",
   "language": "python",
   "name": "python3"
  },
  "language_info": {
   "codemirror_mode": {
    "name": "ipython",
    "version": 3
   },
   "file_extension": ".py",
   "mimetype": "text/x-python",
   "name": "python",
   "nbconvert_exporter": "python",
   "pygments_lexer": "ipython3",
   "version": "3.12.6"
  }
 },
 "nbformat": 4,
 "nbformat_minor": 5
}
