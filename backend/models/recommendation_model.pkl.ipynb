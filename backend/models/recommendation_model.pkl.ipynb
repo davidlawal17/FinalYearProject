{
 "cells": [
  {
   "metadata": {
    "ExecuteTime": {
     "end_time": "2025-04-12T16:10:50.762903Z",
     "start_time": "2025-04-12T16:10:49.881125Z"
    }
   },
   "cell_type": "code",
   "source": [
    "\n",
    "import pandas as pd\n",
    "import numpy as np\n",
    "import joblib\n",
    "from sklearn.model_selection import train_test_split, cross_val_score\n",
    "from sklearn.ensemble import GradientBoostingClassifier\n",
    "from sklearn.calibration import CalibratedClassifierCV\n",
    "from sklearn.metrics import classification_report, accuracy_score, confusion_matrix\n",
    "from imblearn.over_sampling import SMOTE\n",
    "import seaborn as sns\n",
    "import matplotlib.pyplot as plt\n",
    "\n",
    "# Load and clean the dataset\n",
    "df = pd.read_csv(\"realestate_data_london_2024_nov.csv\")\n",
    "df = df[~df['price'].astype(str).str.contains(\"POA\", na=False)]\n",
    "df['price'] = df['price'].replace('[£,]', '', regex=True).astype(float)\n",
    "df.dropna(subset=['price', 'bedrooms', 'bathrooms', 'title'], inplace=True)\n",
    "df['sizeSqFeetMax'] = df['sizeSqFeetMax'].fillna(df['sizeSqFeetMax'].median())\n",
    "\n",
    "# Extract region from title\n",
    "df['postcode'] = df['title'].str.extract(r'([A-Z]{1,2}\\d{1,2}[A-Z]?)\\s*,?\\s*$')\n",
    "df['postcode_prefix'] = df['postcode'].str.extract(r'^([A-Z]{1,2})')\n",
    "postcode_to_region = {\n",
    "    'N': 'North', 'NW': 'North',\n",
    "    'E': 'East',\n",
    "    'S': 'South', 'SE': 'South', 'SW': 'South',\n",
    "    'W': 'West',\n",
    "    'WC': 'Central', 'EC': 'Central'\n",
    "}\n",
    "df['region'] = df['postcode_prefix'].map(postcode_to_region).fillna('Other')\n",
    "\n",
    "# Add numerical region score\n",
    "region_score_map = {\n",
    "    \"Central\": 0.90,\n",
    "    \"East\": 0.85,\n",
    "    \"South\": 0.75,\n",
    "    \"West\": 0.65,\n",
    "    \"North\": 0.60,\n",
    "    \"Other\": 0.50\n",
    "}\n",
    "df['region_score'] = df['region'].map(region_score_map)\n",
    "\n",
    "# One-hot encode region (excluding 'region_score')\n",
    "df = pd.get_dummies(df, columns=['region'], prefix='region', drop_first=False)\n",
    "\n",
    "# Property type encoding\n",
    "common_types = ['Flat', 'House', 'Detached', 'Semi_Detached', 'Terraced']\n",
    "df['property_type'] = df['propertyType'].apply(lambda x: x.replace(\"-\", \"_\") if x.replace(\"-\", \"_\") in common_types else 'Other')\n",
    "df = pd.get_dummies(df, columns=['property_type'], prefix='propertyType', drop_first=False)\n",
    "\n",
    "# Feature engineering (safe features)\n",
    "df['price_per_bedroom'] = df['price'] / df['bedrooms']\n",
    "df['price_per_sqft'] = df['price'] / df['sizeSqFeetMax']\n",
    "df['estimated_rent'] = df['price'] * np.random.uniform(0.0035, 0.0065, size=len(df))\n",
    "df['rent_to_price_ratio'] = (df['estimated_rent'] * 12) / df['price'] * 100\n",
    "df['bedrooms_per_100k'] = df['bedrooms'] / (df['price'] / 100_000)\n",
    "\n",
    "# Growth used for labeling only\n",
    "df['expected_growth_rate'] = np.random.uniform(0.02, 0.06, size=len(df))\n",
    "df['roi'] = df['rent_to_price_ratio'] + (df['expected_growth_rate'] * 100)\n",
    "\n",
    "# Label logic (no leakage)\n",
    "HIGH_ROI_THRESHOLD = 9.5\n",
    "HIGH_GROWTH_THRESHOLD = 0.045\n",
    "df['label'] = ((df['roi'] > HIGH_ROI_THRESHOLD) | (df['expected_growth_rate'] > HIGH_GROWTH_THRESHOLD)).astype(int)\n",
    "\n",
    "# Final features (no leakage)\n",
    "target = df['label']\n",
    "features = df[[\n",
    "    'price', 'bedrooms', 'bathrooms', 'sizeSqFeetMax',\n",
    "    'price_per_bedroom', 'price_per_sqft', 'estimated_rent',\n",
    "    'rent_to_price_ratio', 'bedrooms_per_100k', 'region_score'\n",
    "] + [col for col in df.columns if col.startswith(\"propertyType_\") or col.startswith(\"region_\") and col != \"region_score\"]]\n",
    "\n",
    "# Train/test split + SMOTE\n",
    "X_train, X_test, y_train, y_test = train_test_split(features, target, test_size=0.3, stratify=target, random_state=42)\n",
    "smote = SMOTE(random_state=42)\n",
    "X_train, y_train = smote.fit_resample(X_train, y_train)\n",
    "\n",
    "# Train model\n",
    "base_model = GradientBoostingClassifier(n_estimators=100, max_depth=3, learning_rate=0.05, subsample=0.8, random_state=42)\n",
    "model = CalibratedClassifierCV(base_model, method='sigmoid', cv=5)\n",
    "model.fit(X_train, y_train)\n",
    "\n",
    "# Evaluate\n",
    "y_pred = model.predict(X_test)\n",
    "print(\"Test Accuracy:\", accuracy_score(y_test, y_pred))\n",
    "print(\"\\nReport:\\n\", classification_report(y_test, y_pred))\n",
    "\n",
    "# Confusion matrix\n",
    "sns.heatmap(confusion_matrix(y_test, y_pred), annot=True, fmt='d', cmap='Blues', xticklabels=['Avoid', 'Buy'], yticklabels=['Avoid', 'Buy'])\n",
    "plt.xlabel(\"Predicted\")\n",
    "plt.ylabel(\"Actual\")\n",
    "plt.title(\"Confusion Matrix\")\n",
    "plt.show()\n",
    "\n",
    "# Save model\n",
    "joblib.dump(model, \"/Users/davidlawal/Desktop/Investr-/backend/models/recommendation_model.pkl\")\n"
   ],
   "id": "692d26bf97f3ffb1",
   "outputs": [
    {
     "name": "stdout",
     "output_type": "stream",
     "text": [
      "Test Accuracy: 0.7016949152542373\n",
      "\n",
      "Report:\n",
      "               precision    recall  f1-score   support\n",
      "\n",
      "           0       0.57      0.70      0.62       105\n",
      "           1       0.81      0.71      0.75       190\n",
      "\n",
      "    accuracy                           0.70       295\n",
      "   macro avg       0.69      0.70      0.69       295\n",
      "weighted avg       0.72      0.70      0.71       295\n",
      "\n"
     ]
    },
    {
     "data": {
      "text/plain": [
       "<Figure size 640x480 with 2 Axes>"
      ],
      "image/png": "[encoded data removed]"
     },
     "metadata": {},
     "output_type": "display_data"
    },
    {
     "data": {
      "text/plain": [
       "['/Users/davidlawal/Desktop/Investr-/backend/models/recommendation_model.pkl']"
      ]
     },
     "execution_count": 40,
     "metadata": {},
     "output_type": "execute_result"
    }
   ],
   "execution_count": 40
  },
  {
   "metadata": {
    "ExecuteTime": {
     "end_time": "2025-04-12T16:16:34.586693Z",
     "start_time": "2025-04-12T16:16:34.568431Z"
    }
   },
   "cell_type": "code",
   "source": "print(model.feature_names_in_)",
   "id": "5ff8e77e81209ffe",
   "outputs": [
    {
     "name": "stdout",
     "output_type": "stream",
     "text": [
      "['price' 'bedrooms' 'bathrooms' 'sizeSqFeetMax' 'price_per_bedroom'\n",
      " 'price_per_sqft' 'estimated_rent' 'rent_to_price_ratio'\n",
      " 'bedrooms_per_100k' 'region_score' 'region_Central' 'region_East'\n",
      " 'region_North' 'region_Other' 'region_South' 'region_West'\n",
      " 'propertyType_Detached' 'propertyType_Flat' 'propertyType_House'\n",
      " 'propertyType_Other' 'propertyType_Semi_Detached' 'propertyType_Terraced']\n"
     ]
    }
   ],
   "execution_count": 41
  }
 ],
 "metadata": {
  "kernelspec": {
   "display_name": "Python 3 (ipykernel)",
   "language": "python",
   "name": "python3"
  },
  "language_info": {
   "codemirror_mode": {
    "name": "ipython",
    "version": 3
   },
   "file_extension": ".py",
   "mimetype": "text/x-python",
   "name": "python",
   "nbconvert_exporter": "python",
   "pygments_lexer": "ipython3",
   "version": "3.12.6"
  }
 },
 "nbformat": 4,
 "nbformat_minor": 5
}
